{
  "nbformat": 4,
  "nbformat_minor": 0,
  "metadata": {
    "colab": {
      "provenance": [],
      "authorship_tag": "ABX9TyOu/dfl6kbJXm0W1i6cSo/X",
      "include_colab_link": true
    },
    "kernelspec": {
      "name": "python3",
      "display_name": "Python 3"
    },
    "language_info": {
      "name": "python"
    }
  },
  "cells": [
    {
      "cell_type": "markdown",
      "metadata": {
        "id": "view-in-github",
        "colab_type": "text"
      },
      "source": [
        "<a href=\"https://colab.research.google.com/github/alabamahanna123/Arthur/blob/main/CompareLLM.ipynb\" target=\"_parent\"><img src=\"https://colab.research.google.com/assets/colab-badge.svg\" alt=\"Open In Colab\"/></a>"
      ]
    },
    {
      "cell_type": "code",
      "execution_count": null,
      "metadata": {
        "id": "z2YggitdqcuT"
      },
      "outputs": [],
      "source": [
        "import pandas as pd\n",
        "from datasets import load_dataset\n",
        "billsum = load_dataset(\"billsum\", split=\"ca_test\")\n",
        "billsum_df = pd.DataFrame(billsum).sample(10, random_state=278487)\n"
      ]
    },
    {
      "cell_type": "code",
      "source": [
        "from langchain.llms import OpenAI, Cohere\n",
        "from langchain.chains import LLMChain\n",
        "from langchain.prompts import PromptTemplate\n",
        "\n",
        "gpt3 = OpenAI(temperature=0.0, max_tokens=100)\n",
        "command = Cohere(temperature=0.0, max_tokens=100)\n",
        "\n",
        "prompt_template = PromptTemplate(\n",
        "\tinput_variables=[\"text\"],\n",
        "\ttemplate=\"\"\"\n",
        "\tYou are an expert summarizer of text. A good summary\n",
        "\tcaptures the most important information in the text and doesnt focus too much on small details.\n",
        "\tText: {text}\n",
        "\tSummary:\n",
        "\t\"\"\"\n",
        ")\n",
        "\n",
        "gpt3_chain = LLMChain(llm=gpt3, prompt=prompt_template)\n",
        "command_chain = LLMChain(llm=command, prompt=prompt_template)\n",
        "\n",
        "# generate summaries with truncated text\n",
        "gpt3_summaries = [gpt3_chain.run(bill[:3000]) for bill in billsum_df.text]\n",
        "command_summaries = [command_chain.run(bill[:3000]) for bill in billsum_df.text]"
      ],
      "metadata": {
        "id": "6XdRacAKqwGR"
      },
      "execution_count": null,
      "outputs": []
    },
    {
      "cell_type": "code",
      "source": [
        "from arthur_bench.run.testsuite import TestSuite\n",
        "my_suite = TestSuite(\n",
        "\t\"congressional_bills\",\n",
        "\t\"summary_quality\",\n",
        "\tinput_text_list=list(billsum_df.text),\n",
        "\treference_output_list=list(billsum_df.summary)"
      ],
      "metadata": {
        "id": "1dbZOVw1q12T"
      },
      "execution_count": null,
      "outputs": []
    },
    {
      "cell_type": "code",
      "source": [
        "my_suite.run(\"gpt3_summaries\", candidate_output_list=gpt3_summaries)\n",
        "my_suite.run(\"command_summaries\", candidate_output_list=command_summaries)"
      ],
      "metadata": {
        "id": "_skdpPdOq6DU"
      },
      "execution_count": null,
      "outputs": []
    }
  ]
}